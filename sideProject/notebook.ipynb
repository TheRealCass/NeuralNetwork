{
 "cells": [
  {
   "cell_type": "code",
   "execution_count": null,
   "metadata": {},
   "outputs": [],
   "source": [
    "import numpy as np\n",
    "\n",
    "class Perceptron:\n",
    "    def __init__(self, input_size, learning_rate=0.01, epochs=1000):\n",
    "        self.weights = np.zeros(input_size + 1)  # +1 for bias\n",
    "        self.learning_rate = learning_rate\n",
    "        self.epochs = epochs\n",
    "\n",
    "    def activation_function(self, x):\n",
    "        return 1 if x >= 0 else 0\n",
    "\n",
    "    def predict(self, x):\n",
    "        z = self.weights.T.dot(np.insert(x, 0, 1))  # Insert 1 for bias\n",
    "        return self.activation_function(z)\n",
    "\n",
    "    def fit(self, X, y):\n",
    "        for _ in range(self.epochs):\n",
    "            for xi, target in zip(X, y):\n",
    "                prediction = self.predict(xi)\n",
    "                self.weights[1:] += self.learning_rate * (target - prediction) * xi\n",
    "                self.weights[0] += self.learning_rate * (target - prediction)  # Update bias\n",
    "\n",
    "# Example usage:\n",
    "if __name__ == \"__main__\":\n",
    "    # Sample data (AND logic gate)\n",
    "    X = np.array([[0, 0], [0, 1], [1, 0], [1, 1]])\n",
    "    y = np.array([0, 0, 0, 1])\n",
    "\n",
    "    perceptron = Perceptron(input_size=2)\n",
    "    perceptron.fit(X, y)\n",
    "\n",
    "    # Test the perceptron\n",
    "    for x in X:\n",
    "        print(f\"Input: {x}, Predicted Output: {perceptron.predict(x)}\")"
   ]
  }
 ],
 "metadata": {
  "language_info": {
   "name": "python"
  }
 },
 "nbformat": 4,
 "nbformat_minor": 2
}
